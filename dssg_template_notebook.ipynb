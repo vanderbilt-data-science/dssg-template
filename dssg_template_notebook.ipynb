{
  "nbformat": 4,
  "nbformat_minor": 0,
  "metadata": {
    "colab": {
      "provenance": [],
      "authorship_tag": "ABX9TyO/mI2R5z1PgMaDNJJyHhL3",
      "include_colab_link": true
    },
    "kernelspec": {
      "name": "python3",
      "display_name": "Python 3"
    },
    "language_info": {
      "name": "python"
    }
  },
  "cells": [
    {
      "cell_type": "markdown",
      "metadata": {
        "id": "view-in-github",
        "colab_type": "text"
      },
      "source": [
        "<a href=\"https://colab.research.google.com/github/vanderbilt-data-science/dssg-template/blob/main/dssg_template_notebook.ipynb\" target=\"_parent\"><img src=\"https://colab.research.google.com/assets/colab-badge.svg\" alt=\"Open In Colab\"/></a>"
      ]
    },
    {
      "cell_type": "markdown",
      "source": [
        "# Project Title"
      ],
      "metadata": {
        "id": "PIbogPXyM0wr"
      }
    },
    {
      "cell_type": "markdown",
      "source": [
        "## Problem Definition\n",
        "\n",
        "Add problem definition here."
      ],
      "metadata": {
        "id": "x_Vp8SiKM4p1"
      }
    },
    {
      "cell_type": "markdown",
      "source": [
        "## Libraries"
      ],
      "metadata": {
        "id": "o_60X8H3NEne"
      }
    },
    {
      "cell_type": "code",
      "source": [
        "# install libraries here\n",
        "# -q flag for \"quiet\" install\n",
        "!pip install -q langchain\n",
        "!pip install -q openai\n",
        "!pip install -q gradio"
      ],
      "metadata": {
        "id": "pxcqXgg2aAN7"
      },
      "execution_count": null,
      "outputs": []
    },
    {
      "cell_type": "code",
      "execution_count": null,
      "metadata": {
        "id": "pEjM1tLsMZBq"
      },
      "outputs": [],
      "source": [
        "# import libraries here\n",
        "from langchain.llms import OpenAI\n",
        "from langchain.prompts import PromptTemplate\n",
        "from langchain.document_loaders import TextLoader\n",
        "from langchain.indexes import VectorstoreIndexCreator\n",
        "from langchain.text_splitter import CharacterTextSplitter\n",
        "from langchain.embeddings import OpenAIEmbeddings\n",
        "import os\n",
        "from getpass import getpass"
      ]
    },
    {
      "cell_type": "markdown",
      "source": [
        "## API Keys\n",
        "\n",
        "Use these cells to load the API keys required for this notebook. The below code cell uses the `getpass` library."
      ],
      "metadata": {
        "id": "03KLZGI_a5W5"
      }
    },
    {
      "cell_type": "code",
      "source": [
        "openai_api_key = getpass()\n",
        "os.environ[\"OPENAI_API_KEY\"] = openai_api_key"
      ],
      "metadata": {
        "id": "5smcWj4DbFgy"
      },
      "execution_count": null,
      "outputs": []
    },
    {
      "cell_type": "markdown",
      "source": [
        "## Model Setup\n",
        "\n",
        "Use these cells to set up your model. The example code below initiates the OpenAI model using Langchain."
      ],
      "metadata": {
        "id": "2JspJunJbSqa"
      }
    },
    {
      "cell_type": "code",
      "source": [
        "llm = OpenAI()"
      ],
      "metadata": {
        "id": "wBM5KhdrbYfK"
      },
      "execution_count": null,
      "outputs": []
    },
    {
      "cell_type": "markdown",
      "source": [
        "## Data Loading\n",
        "\n",
        "Information about the data/documents used for this notebook, along with explanations of code for importing data below."
      ],
      "metadata": {
        "id": "f1aToLaZNNei"
      }
    },
    {
      "cell_type": "code",
      "source": [
        "# load data here"
      ],
      "metadata": {
        "id": "S4lamCYbNUfm"
      },
      "execution_count": null,
      "outputs": []
    },
    {
      "cell_type": "markdown",
      "source": [
        "## Implementation\n",
        "\n",
        "Add details about the solution implementation here, as well as any information relevant to the code below. Feel free to add more code/text for better organization."
      ],
      "metadata": {
        "id": "7hfOZ-Q-Ng1x"
      }
    },
    {
      "cell_type": "code",
      "source": [
        "# solution/ implementation here"
      ],
      "metadata": {
        "id": "8rdPejqTN0Gb"
      },
      "execution_count": null,
      "outputs": []
    },
    {
      "cell_type": "markdown",
      "source": [
        "## Interface\n",
        "\n",
        "Explain how the user will access the solution implemented above - through the notebook, Gradio, HuggingFace, etc. Include examples of using and testing the solution developed above."
      ],
      "metadata": {
        "id": "QrOmUgh9N-iD"
      }
    },
    {
      "cell_type": "code",
      "source": [
        "# code here"
      ],
      "metadata": {
        "id": "mzCOUEcQOOW-"
      },
      "execution_count": null,
      "outputs": []
    },
    {
      "cell_type": "markdown",
      "source": [
        "## Conclusion\n",
        "\n",
        "Summarize the problem your solution addresses, and how the team accomplished this. Include any caveats or further considerations."
      ],
      "metadata": {
        "id": "JpsbF1YJOT6T"
      }
    }
  ]
}